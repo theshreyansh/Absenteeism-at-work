{
 "cells": [
  {
   "cell_type": "code",
   "execution_count": 1,
   "id": "704545ea",
   "metadata": {},
   "outputs": [
    {
     "name": "stderr",
     "output_type": "stream",
     "text": [
      "C:\\Users\\shrey\\AppData\\Roaming\\Python\\Python38\\site-packages\\sklearn\\utils\\deprecation.py:143: FutureWarning: The sklearn.utils.testing module is  deprecated in version 0.22 and will be removed in version 0.24. The corresponding classes / functions should instead be imported from sklearn.utils. Anything that cannot be imported from sklearn.utils is now part of the private API.\n",
      "  warnings.warn(message, FutureWarning)\n"
     ]
    }
   ],
   "source": [
    "### importing lazypredict library\n",
    "import lazypredict\n",
    "### importing LazyClassifier for classification problem\n",
    "from lazypredict.Supervised import LazyClassifier\n",
    "### importing LazyClassifier for classification problem because here we are solving Classification use case.\n",
    "from lazypredict.Supervised import LazyClassifier\n",
    "### importing breast Cancer Dataset from sklearn\n",
    "from sklearn.datasets import load_breast_cancer\n",
    "### spliting dataset into training and testing part\n",
    "from sklearn.model_selection import train_test_split\n",
    "import pandas as pd"
   ]
  },
  {
   "cell_type": "code",
   "execution_count": 2,
   "id": "279bee1e",
   "metadata": {},
   "outputs": [],
   "source": [
    "df = pd.read_csv('Absenteeism_at_work.csv')"
   ]
  },
  {
   "cell_type": "code",
   "execution_count": 3,
   "id": "3f3e324a",
   "metadata": {},
   "outputs": [
    {
     "data": {
      "text/plain": [
       "Index(['ID', 'Reason for absence', 'Month of absence', 'Day of the week',\n",
       "       'Seasons', 'Transportation expense', 'Distance from Residence to Work',\n",
       "       'Service time', 'Age', 'Work load Average/day ', 'Hit target',\n",
       "       'Disciplinary failure', 'Education', 'Son', 'Social drinker',\n",
       "       'Social smoker', 'Pet', 'Weight', 'Height', 'Body mass index',\n",
       "       'Absenteeism time in hours'],\n",
       "      dtype='object')"
      ]
     },
     "execution_count": 3,
     "metadata": {},
     "output_type": "execute_result"
    }
   ],
   "source": [
    "df.columns"
   ]
  },
  {
   "cell_type": "code",
   "execution_count": 4,
   "id": "1c3dd64b",
   "metadata": {},
   "outputs": [],
   "source": [
    "y= df['Absenteeism time in hours']\n",
    "X= df.drop('Absenteeism time in hours',axis=1)\n",
    "X= df.drop('ID',axis=1)"
   ]
  },
  {
   "cell_type": "code",
   "execution_count": 5,
   "id": "5ba0aadf",
   "metadata": {},
   "outputs": [],
   "source": [
    "### splitting dataset into training and testing part(50% training and 50% testing)\n",
    "X_train, X_test, y_train, y_test = train_test_split(X, y, test_size=.5, random_state =123)"
   ]
  },
  {
   "cell_type": "code",
   "execution_count": 6,
   "id": "01835f32",
   "metadata": {},
   "outputs": [],
   "source": [
    "clf = LazyClassifier(verbose=0, ignore_warnings=True, custom_metric = None)"
   ]
  },
  {
   "cell_type": "code",
   "execution_count": 7,
   "id": "c1836c9d",
   "metadata": {},
   "outputs": [
    {
     "name": "stderr",
     "output_type": "stream",
     "text": [
      "100%|█████████████████████████████████████████████████████████████████████████████████████████████████████████████████████████████████████████████████████████████████████████████| 29/29 [00:04<00:00,  6.22it/s]"
     ]
    },
    {
     "name": "stdout",
     "output_type": "stream",
     "text": [
      "                             Accuracy  Balanced Accuracy ROC AUC  F1 Score  \\\n",
      "Model                                                                        \n",
      "LinearDiscriminantAnalysis       1.00               0.93    None      1.00   \n",
      "XGBClassifier                    0.98               0.75    None      0.98   \n",
      "GaussianNB                       0.98               0.73    None      0.97   \n",
      "BaggingClassifier                0.97               0.68    None      0.97   \n",
      "DecisionTreeClassifier           0.97               0.68    None      0.97   \n",
      "LGBMClassifier                   0.96               0.61    None      0.96   \n",
      "AdaBoostClassifier               0.85               0.53    None      0.79   \n",
      "RandomForestClassifier           0.89               0.49    None      0.87   \n",
      "ExtraTreesClassifier             0.73               0.41    None      0.71   \n",
      "ExtraTreeClassifier              0.53               0.32    None      0.54   \n",
      "LabelPropagation                 0.43               0.28    None      0.43   \n",
      "LabelSpreading                   0.43               0.28    None      0.43   \n",
      "NearestCentroid                  0.28               0.26    None      0.31   \n",
      "LinearSVC                        0.53               0.22    None      0.48   \n",
      "BernoulliNB                      0.51               0.21    None      0.48   \n",
      "LogisticRegression               0.51               0.21    None      0.46   \n",
      "SGDClassifier                    0.45               0.20    None      0.46   \n",
      "CalibratedClassifierCV           0.52               0.20    None      0.43   \n",
      "SVC                              0.48               0.19    None      0.42   \n",
      "PassiveAggressiveClassifier      0.36               0.18    None      0.35   \n",
      "RidgeClassifier                  0.47               0.18    None      0.37   \n",
      "KNeighborsClassifier             0.39               0.17    None      0.38   \n",
      "RidgeClassifierCV                0.46               0.17    None      0.36   \n",
      "Perceptron                       0.35               0.15    None      0.34   \n",
      "DummyClassifier                  0.16               0.07    None      0.16   \n",
      "\n",
      "                             Time Taken  \n",
      "Model                                    \n",
      "LinearDiscriminantAnalysis         0.03  \n",
      "XGBClassifier                      1.60  \n",
      "GaussianNB                         0.02  \n",
      "BaggingClassifier                  0.04  \n",
      "DecisionTreeClassifier             0.03  \n",
      "LGBMClassifier                     0.90  \n",
      "AdaBoostClassifier                 0.14  \n",
      "RandomForestClassifier             0.31  \n",
      "ExtraTreesClassifier               0.21  \n",
      "ExtraTreeClassifier                0.02  \n",
      "LabelPropagation                   0.06  \n",
      "LabelSpreading                     0.06  \n",
      "NearestCentroid                    0.02  \n",
      "LinearSVC                          0.15  \n",
      "BernoulliNB                        0.02  \n",
      "LogisticRegression                 0.09  \n",
      "SGDClassifier                      0.03  \n",
      "CalibratedClassifierCV             0.66  \n",
      "SVC                                0.05  \n",
      "PassiveAggressiveClassifier        0.03  \n",
      "RidgeClassifier                    0.03  \n",
      "KNeighborsClassifier               0.04  \n",
      "RidgeClassifierCV                  0.01  \n",
      "Perceptron                         0.03  \n",
      "DummyClassifier                    0.03  \n"
     ]
    },
    {
     "name": "stderr",
     "output_type": "stream",
     "text": [
      "\n"
     ]
    }
   ],
   "source": [
    "### fitting data in LazyClassifier\n",
    "models,predictions = clf.fit(X_train, X_test, y_train, y_test)\n",
    "### lets check which model did better on Breast Cancer Dataset\n",
    "print(models)"
   ]
  },
  {
   "cell_type": "code",
   "execution_count": null,
   "id": "3bd4b34b",
   "metadata": {},
   "outputs": [],
   "source": []
  }
 ],
 "metadata": {
  "kernelspec": {
   "display_name": "Python 3",
   "language": "python",
   "name": "python3"
  },
  "language_info": {
   "codemirror_mode": {
    "name": "ipython",
    "version": 3
   },
   "file_extension": ".py",
   "mimetype": "text/x-python",
   "name": "python",
   "nbconvert_exporter": "python",
   "pygments_lexer": "ipython3",
   "version": "3.8.10"
  }
 },
 "nbformat": 4,
 "nbformat_minor": 5
}
